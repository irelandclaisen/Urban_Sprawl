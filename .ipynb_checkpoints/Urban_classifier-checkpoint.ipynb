{
 "cells": [
  {
   "cell_type": "markdown",
   "metadata": {},
   "source": [
    "# Urban Classification Model"
   ]
  },
  {
   "cell_type": "markdown",
   "metadata": {},
   "source": [
    "In this notebook, I develop two models to classify satellite images as urban and non-urban.  The first model is a simple convolutional neural network.  The second is also a CNN, but involving transfer learning using the fastai library and using the Resnet34 architecture.  I was unable to get very good accuracy with the first model (around 0.7), despite various tweaks, which is why I tried a second model.  I am able to get good precision and recall with the second model (0.99 and 0.98). "
   ]
  },
  {
   "cell_type": "markdown",
   "metadata": {},
   "source": [
    "## Loading data and splitting into train and validation sets"
   ]
  },
  {
   "cell_type": "code",
   "execution_count": null,
   "metadata": {
    "_cell_guid": "b1076dfc-b9ad-4769-8c92-a6c4dae69d19",
    "_uuid": "8f2839f25d086af736a60e9eeb907d3b93b6e0e5"
   },
   "outputs": [],
   "source": [
    "# Import libraries\n",
    "import numpy as np \n",
    "import pandas as pd \n",
    "from glob import glob\n",
    "import rasterio\n",
    "from rasterio import plot\n",
    "import matplotlib.pyplot as plt\n",
    "from PIL import Image\n",
    "import seaborn as sns"
   ]
  },
  {
   "cell_type": "code",
   "execution_count": null,
   "metadata": {},
   "outputs": [],
   "source": [
    "# Load the data into test and train sets\n",
    "name_train = sorted(glob(\"/TRAIN/*\"))\n",
    "name_test = sorted(glob(\"/TEST/*\"))\n",
    "X_train = np.array([np.array(Image.open(jpg)) for jpg in name_train])\n",
    "X_test = np.array([np.array(Image.open(jpg)) for jpg in name_test])\n",
    "y_train = np.load(\"/y_train.npy\")"
   ]
  },
  {
   "cell_type": "code",
   "execution_count": null,
   "metadata": {},
   "outputs": [],
   "source": [
    "# One hot encoding for all the different categories\n",
    "from sklearn.preprocessing import OneHotEncoder\n",
    "\n",
    "print (f\"Shape label raw : {y_train.shape}\")\n",
    "\n",
    "encoder = OneHotEncoder()\n",
    "y_train = encoder.fit_transform(y_train.reshape(-1, 1)).toarray()\n",
    "\n",
    "print (f\"Shape label One Hot Encoded : {y_train.shape}\")\n",
    "print (f\"Label for y_train[0] : {y_train[0]}\")"
   ]
  },
  {
   "cell_type": "code",
   "execution_count": null,
   "metadata": {},
   "outputs": [],
   "source": [
    "# Split the training data into train and validation sets\n",
    "X_train, X_valid = X_train[:15000], X_train[15000:]\n",
    "y_train, y_valid = y_train[:15000], y_train[15000:]"
   ]
  },
  {
   "cell_type": "markdown",
   "metadata": {},
   "source": [
    "## Simple CNN model"
   ]
  },
  {
   "cell_type": "code",
   "execution_count": null,
   "metadata": {},
   "outputs": [],
   "source": [
    "# Make a CNN model\n",
    "import keras \n",
    "from keras.models import Sequential\n",
    "from keras.layers import Dense, Conv2D, Flatten, MaxPooling2D\n",
    "\n",
    "model = Sequential()\n",
    "model.add(Conv2D(32, kernel_size = (3, 3), activation='relu', input_shape=(64, 64, 3)))\n",
    "model.add(Conv2D(32, kernel_size = (3, 3), activation='relu'))\n",
    "model.add(Conv2D(32, kernel_size = (3, 3), activation='relu'))\n",
    "model.add(MaxPooling2D(pool_size=(2,2)))\n",
    "model.add(Conv2D(32, kernel_size = (3, 3), activation='relu'))\n",
    "model.add(Conv2D(32, kernel_size = (3, 3), activation='relu'))\n",
    "model.add(Conv2D(32, kernel_size = (3, 3), activation='relu'))\n",
    "model.add(Flatten())\n",
    "model.add(Dense(128, activation='relu'))\n",
    "model.add(Dense(10, activation = 'softmax'))"
   ]
  },
  {
   "cell_type": "code",
   "execution_count": null,
   "metadata": {},
   "outputs": [],
   "source": [
    "# Compile model\n",
    "model.compile(loss=keras.losses.categorical_crossentropy,\n",
    "              optimizer=keras.optimizers.SGD(),\n",
    "              metrics=['accuracy'])"
   ]
  },
  {
   "cell_type": "code",
   "execution_count": null,
   "metadata": {},
   "outputs": [],
   "source": [
    "# Fit model\n",
    "history = model.fit(X_train, y_train, batch_size = 32, \n",
    "                   validation_data=(X_valid, y_valid), epochs=10)"
   ]
  },
  {
   "cell_type": "code",
   "execution_count": null,
   "metadata": {},
   "outputs": [],
   "source": [
    "# Save scratch model\n",
    "model.save('scratch_model')"
   ]
  },
  {
   "cell_type": "code",
   "execution_count": null,
   "metadata": {},
   "outputs": [],
   "source": [
    "# Get predictions for the validation set\n",
    "pred = model.predict(X_valid)"
   ]
  },
  {
   "cell_type": "code",
   "execution_count": null,
   "metadata": {},
   "outputs": [],
   "source": [
    "# Looks at the prediction for the first image of the validation set\n",
    "pred[0].argmax()"
   ]
  },
  {
   "cell_type": "code",
   "execution_count": null,
   "metadata": {},
   "outputs": [],
   "source": [
    "# Looks at the actual value for the first image of the validation set\n",
    "y_valid[0].argmax()"
   ]
  },
  {
   "cell_type": "code",
   "execution_count": null,
   "metadata": {},
   "outputs": [],
   "source": [
    "# Model sorts into 10 different categories.  If category is residential, commercial, or highway, set as \n",
    "# urban. Otherwise, set as not urban.  Sets labels for the predictions\n",
    "urban_pred = []\n",
    "urban_actual = []\n",
    "for prediction in pred:\n",
    "    if prediction.argmax() in [3, 4, 7]:\n",
    "        urban_pred.append('urban')\n",
    "    else:\n",
    "        urban_pred.append('not urban')"
   ]
  },
  {
   "cell_type": "code",
   "execution_count": null,
   "metadata": {},
   "outputs": [],
   "source": [
    "# Sets urban/ not urban labels for the actual labels\n",
    "for actual in y_valid:\n",
    "    if actual.argmax() in [3, 4, 7]:\n",
    "        urban_actual.append('urban')\n",
    "    else:\n",
    "        urban_actual.append('not urban')"
   ]
  },
  {
   "cell_type": "code",
   "execution_count": null,
   "metadata": {},
   "outputs": [],
   "source": [
    "# Get confusion matrix\n",
    "from sklearn.metrics import confusion_matrix\n",
    "cm = confusion_matrix(urban_actual, urban_pred)"
   ]
  },
  {
   "cell_type": "code",
   "execution_count": null,
   "metadata": {},
   "outputs": [],
   "source": [
    "# Prints classification report\n",
    "from sklearn.metrics import classification_report\n",
    "print(classification_report(urban_actual, urban_pred))"
   ]
  },
  {
   "cell_type": "code",
   "execution_count": null,
   "metadata": {},
   "outputs": [],
   "source": [
    "# Plot confusion matrix\n",
    "from sklearn.svm import SVC\n",
    "from sklearn.metrics import accuracy_score, confusion_matrix, precision_recall_fscore_support\n",
    "\n",
    "cm_df = pd.DataFrame(cm,\n",
    "                     index = ['not urban','urban'], \n",
    "                     columns = ['not urban','urban']);\n",
    "\n",
    "fig, ax = plt.subplots(1, 1,dpi = 300);\n",
    "sns.heatmap(cm_df, cmap = 'Reds', annot=True, fmt='g');\n",
    "plt.title('Accuracy:{0:.3f}'.format(accuracy_score(urban_actual, urban_pred)));\n",
    "plt.ylabel('True label');\n",
    "plt.xlabel('Predicted label');\n",
    "plt.show();\n",
    "plt.savefig('confusion_matrix', transparent=True);"
   ]
  },
  {
   "cell_type": "markdown",
   "metadata": {},
   "source": [
    "## CNN model using FastAI library"
   ]
  },
  {
   "cell_type": "code",
   "execution_count": null,
   "metadata": {
    "_kg_hide-output": true
   },
   "outputs": [],
   "source": [
    "# Install various libraries\n",
    "!pip install torch==1.6.0+cu101 torchvision==0.7.0+cu101 -f https://download.pytorch.org/whl/torch_stable.html\n",
    "!pip install --upgrade kornia\n",
    "!pip install allennlp==1.1.0.rc4\n",
    "!pip install --upgrade fastai"
   ]
  },
  {
   "cell_type": "code",
   "execution_count": null,
   "metadata": {},
   "outputs": [],
   "source": [
    "#Load the libraries and verify the versions\n",
    "import torch\n",
    "print(torch.__version__)\n",
    "print(torch.cuda.is_available())\n",
    "import fastai\n",
    "print(fastai.__version__)\n",
    "from fastai.vision.all import *"
   ]
  },
  {
   "cell_type": "code",
   "execution_count": null,
   "metadata": {},
   "outputs": [],
   "source": [
    "# Gets names of location of image files\n",
    "path = Path('/TRAIN')\n",
    "fnames = get_image_files(path)\n",
    "fnames.sort()"
   ]
  },
  {
   "cell_type": "code",
   "execution_count": null,
   "metadata": {},
   "outputs": [],
   "source": [
    "# Prints the paths to the first 5 images\n",
    "fnames[0:5]"
   ]
  },
  {
   "cell_type": "code",
   "execution_count": null,
   "metadata": {},
   "outputs": [],
   "source": [
    "# Loads the data into ImageDataLoaders object\n",
    "dls = ImageDataLoaders.from_lists(path, fnames, y_train_org, item_tfms=Resize(460),\n",
    "                                    batch_tfms=aug_transforms(size=224))"
   ]
  },
  {
   "cell_type": "code",
   "execution_count": null,
   "metadata": {},
   "outputs": [],
   "source": [
    "# Prints the first few images in a batch \n",
    "dls.show_batch()"
   ]
  },
  {
   "cell_type": "code",
   "execution_count": null,
   "metadata": {},
   "outputs": [],
   "source": [
    "# Loads a resnet34 CNN model\n",
    "learn = cnn_learner(dls, resnet34, metrics=error_rate)"
   ]
  },
  {
   "cell_type": "code",
   "execution_count": null,
   "metadata": {},
   "outputs": [],
   "source": [
    "# Fine tunes the model for 2 epochs\n",
    "learn.fine_tune(2, 3e-3)"
   ]
  },
  {
   "cell_type": "code",
   "execution_count": null,
   "metadata": {
    "collapsed": true,
    "jupyter": {
     "outputs_hidden": true
    }
   },
   "outputs": [],
   "source": [
    "# Prints some examples of images, their actual value, and what the model predicted\n",
    "learn.show_results()"
   ]
  },
  {
   "cell_type": "code",
   "execution_count": null,
   "metadata": {},
   "outputs": [],
   "source": [
    "# Saves the model\n",
    "learn.export(fname='/export.pkl')"
   ]
  },
  {
   "cell_type": "code",
   "execution_count": null,
   "metadata": {},
   "outputs": [],
   "source": [
    "# Opens the model\n",
    "learn = load_learner('/export.pkl')"
   ]
  },
  {
   "cell_type": "code",
   "execution_count": null,
   "metadata": {},
   "outputs": [],
   "source": [
    "# Prints 5 images that were misclassified, their actual value and what the model predicted\n",
    "interp = Interpretation.from_learner(learn)\n",
    "interp.plot_top_losses(5, figsize=(15,10))"
   ]
  },
  {
   "cell_type": "code",
   "execution_count": null,
   "metadata": {},
   "outputs": [],
   "source": [
    "# Gets the validation set predictions and targets\n",
    "val_preds,val_targets = learn.get_preds()"
   ]
  },
  {
   "cell_type": "code",
   "execution_count": null,
   "metadata": {},
   "outputs": [],
   "source": [
    "# Plots the confusion matrix\n",
    "interp.plot_confusion_matrix(figsize=(12,12), dpi=100)"
   ]
  },
  {
   "cell_type": "code",
   "execution_count": null,
   "metadata": {},
   "outputs": [],
   "source": [
    "# Prints the classification report\n",
    "print(classification_report(val_targets, val_preds))"
   ]
  },
  {
   "cell_type": "code",
   "execution_count": null,
   "metadata": {},
   "outputs": [],
   "source": [
    "# Model sorts into 10 different categories.  If category is residential, commercial, or highway, set as \n",
    "# urban. Otherwise, set as not urban.  Sets labels for the predictions\n",
    "res_pred = []\n",
    "res_actual = []\n",
    "for prediction in val_preds:\n",
    "    if prediction.argmax() in [3, 4, 7]:\n",
    "        res_pred.append('urban')\n",
    "    else:\n",
    "        res_pred.append('not urban')"
   ]
  },
  {
   "cell_type": "code",
   "execution_count": null,
   "metadata": {},
   "outputs": [],
   "source": [
    "# Sets urban/ not urban labels for the actual labels\n",
    "for actual in val_targets:\n",
    "    if actual in [3, 4, 7]:\n",
    "        res_actual.append('urban')\n",
    "    else:\n",
    "        res_actual.append('not urban')"
   ]
  },
  {
   "cell_type": "code",
   "execution_count": null,
   "metadata": {},
   "outputs": [],
   "source": [
    "# Prints the classification report for urban vs not urban\n",
    "print(classification_report(res_actual, res_pred))"
   ]
  },
  {
   "cell_type": "code",
   "execution_count": null,
   "metadata": {},
   "outputs": [],
   "source": [
    "# Plots confusion matrix for urban vs not urban\n",
    "cm = confusion_matrix(res_actual, res_pred)\n",
    "cm_df = pd.DataFrame(cm,\n",
    "                     index = ['not urban','urban'], \n",
    "                     columns = ['not urban','urban']);\n",
    "\n",
    "fig, ax = plt.subplots(1, 1,dpi = 300);\n",
    "sns.heatmap(cm_df, cmap = 'Reds', annot=True, fmt='g');\n",
    "plt.title('Confusion Matrix');\n",
    "plt.ylabel('True label');\n",
    "plt.xlabel('Predicted label');\n",
    "plt.show();\n",
    "plt.savefig('confusion_matrix', transparent=True);"
   ]
  }
 ],
 "metadata": {
  "kernelspec": {
   "display_name": "Python 3",
   "language": "python",
   "name": "python3"
  },
  "language_info": {
   "codemirror_mode": {
    "name": "ipython",
    "version": 3
   },
   "file_extension": ".py",
   "mimetype": "text/x-python",
   "name": "python",
   "nbconvert_exporter": "python",
   "pygments_lexer": "ipython3",
   "version": "3.7.6"
  }
 },
 "nbformat": 4,
 "nbformat_minor": 4
}
